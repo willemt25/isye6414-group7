{
 "cells": [
  {
   "cell_type": "code",
   "execution_count": 4,
   "metadata": {},
   "outputs": [],
   "source": [
    "import pandas as pd\n",
    "from sklearn.linear_model import LinearRegression, LassoCV, Ridge, Lasso\n",
    "from sklearn.feature_selection import SelectFromModel\n",
    "from sklearn.preprocessing import MinMaxScaler\n",
    "from sklearn.metrics import r2_score, mean_absolute_error, mean_squared_error\n",
    "from sklearn.model_selection import cross_val_score\n",
    "from sklearn.model_selection import RepeatedKFold\n",
    "from sklearn.model_selection import GridSearchCV\n",
    "from numpy import arange\n",
    "from sklearn.tree import DecisionTreeRegressor\n",
    "from sklearn.ensemble import RandomForestRegressor"
   ]
  },
  {
   "cell_type": "code",
   "execution_count": 5,
   "metadata": {},
   "outputs": [],
   "source": [
    "train_df_v2 = pd.read_csv('train_df_v2.csv')\n",
    "train_df_v2 = train_df_v2.drop(columns='ID')"
   ]
  },
  {
   "cell_type": "code",
   "execution_count": 6,
   "metadata": {},
   "outputs": [],
   "source": [
    "test_df_v2 = pd.read_csv('test_df_v2.csv').drop(columns='ID')"
   ]
  },
  {
   "cell_type": "code",
   "execution_count": 7,
   "metadata": {},
   "outputs": [],
   "source": [
    "scaler = MinMaxScaler()\n",
    "train_df_scaled_2 = pd.DataFrame(scaler.fit_transform(train_df_v2), columns=train_df_v2.columns)\n",
    "test_df_scaled_2 = pd.DataFrame(scaler.fit_transform(test_df_v2), columns=test_df_v2.columns)"
   ]
  },
  {
   "cell_type": "code",
   "execution_count": 8,
   "metadata": {},
   "outputs": [],
   "source": [
    "X_train_2 = train_df_scaled_2.drop(columns=['Popularity'])\n",
    "y_train_2 = train_df_scaled_2['Popularity']\n",
    "X_test_2 = test_df_scaled_2.drop(columns=['Popularity'])\n",
    "y_test_2 = test_df_scaled_2['Popularity']"
   ]
  },
  {
   "cell_type": "code",
   "execution_count": 9,
   "metadata": {},
   "outputs": [
    {
     "name": "stdout",
     "output_type": "stream",
     "text": [
      "Features selected by SelectFromModel: Index(['energy', 'loudness', 'instrumentalness', 'Year'], dtype='object')\n"
     ]
    }
   ],
   "source": [
    "#Basic linear regression using SelectFromModel to narrow down variables\n",
    "lr = LinearRegression()\n",
    "sfm = SelectFromModel(lr).fit(X_train_2, y_train_2)\n",
    "#sfm.get_support() #shows which columns it chose to use\n",
    "print(f\"Features selected by SelectFromModel: {X_train_2.columns[sfm.get_support()]}\")"
   ]
  },
  {
   "cell_type": "code",
   "execution_count": 10,
   "metadata": {},
   "outputs": [
    {
     "name": "stdout",
     "output_type": "stream",
     "text": [
      "Features selected by SelectFromModel: Index(['energy', 'loudness', 'acousticness', 'instrumentalness', 'Year'], dtype='object')\n"
     ]
    }
   ],
   "source": [
    "#LASSO - to print the most important columns\n",
    "lasso = LassoCV().fit(X_train_2,y_train_2)\n",
    "sfm = SelectFromModel(lasso, threshold=.12).fit(X_train_2, y_train_2)\n",
    "print(f\"Features selected by SelectFromModel: {X_train_2.columns[sfm.get_support()]}\")\n",
    "#can play around with the threshold to get the important features in order"
   ]
  },
  {
   "cell_type": "code",
   "execution_count": 11,
   "metadata": {},
   "outputs": [
    {
     "name": "stdout",
     "output_type": "stream",
     "text": [
      "Features selected by SelectFromModel: Index(['energy', 'loudness', 'acousticness', 'instrumentalness', 'valence',\n",
      "       'Year'],\n",
      "      dtype='object')\n"
     ]
    }
   ],
   "source": [
    "#Ridge - to print the most important columns\n",
    "ridge = Ridge().fit(X_train_2,y_train_2)\n",
    "sfm = SelectFromModel(ridge, threshold=.1).fit(X_train_2, y_train_2)\n",
    "print(f\"Features selected by SelectFromModel: {X_train_2.columns[sfm.get_support()]}\")"
   ]
  },
  {
   "cell_type": "code",
   "execution_count": 12,
   "metadata": {},
   "outputs": [
    {
     "name": "stdout",
     "output_type": "stream",
     "text": [
      "linear regression rmse: 0.19776753328541374\n",
      "lasso regression rmse: 0.24879441025493856\n",
      "ridge regression rmse: 0.19761244609085565\n",
      "\n",
      "\n",
      "\n",
      "linear regression mae: 0.1590332985699157\n",
      "lasso regression mae: 0.2138223959977688\n",
      "ridge regression mae: 0.15894443933480093\n"
     ]
    }
   ],
   "source": [
    "#Get the prediction error of linear regression, lasso, and ridge\n",
    "lr = LinearRegression().fit(X_train_2,y_train_2)\n",
    "lr_pred = lr.predict(X_test_2)\n",
    "lasso = Lasso().fit(X_train_2,y_train_2)\n",
    "lasso_pred = lasso.predict(X_test_2)\n",
    "ridge = Ridge().fit(X_train_2,y_train_2)\n",
    "ridge_pred = ridge.predict(X_test_2)\n",
    "print(\"linear regression rmse: \" + str(mean_squared_error(lr_pred,y_test_2,squared=False)))\n",
    "print(\"lasso regression rmse: \" + str(mean_squared_error(lasso_pred,y_test_2,squared=False)))\n",
    "print(\"ridge regression rmse: \" + str(mean_squared_error(ridge_pred,y_test_2,squared=False)))\n",
    "print(\"\\n\\n\")\n",
    "print(\"linear regression mae: \" + str(mean_absolute_error(lr_pred,y_test_2)))\n",
    "print(\"lasso regression mae: \" + str(mean_absolute_error(lasso_pred,y_test_2)))\n",
    "print(\"ridge regression mae: \" + str(mean_absolute_error(ridge_pred,y_test_2)))\n",
    "#we are at least getting as good of results as we are getting before, without needing to include the artist stuff\n",
    "#step in the right direction"
   ]
  },
  {
   "cell_type": "code",
   "execution_count": 13,
   "metadata": {},
   "outputs": [],
   "source": [
    "X_train_2_short = X_train_2[['energy','loudness','acousticness','instrumentalness','valence','Year']]"
   ]
  },
  {
   "cell_type": "code",
   "execution_count": 14,
   "metadata": {},
   "outputs": [
    {
     "name": "stdout",
     "output_type": "stream",
     "text": [
      "linear regression rmse: 0.1983633920982096\n",
      "linear regression mae: 0.15947793355827827\n"
     ]
    }
   ],
   "source": [
    "lr = LinearRegression().fit(X_train_2_short,y_train_2)\n",
    "lr_pred = lr.predict(X_test_2[['energy','loudness','acousticness','instrumentalness','valence','Year']])\n",
    "print(\"linear regression rmse: \" + str(mean_squared_error(lr_pred,y_test_2,squared=False)))\n",
    "print(\"linear regression mae: \" + str(mean_absolute_error(lr_pred,y_test_2)))\n",
    "#adding danceability in barely makes any difference for the accuracy\n",
    "#this is basically the subset of features that we actually need\n",
    "#we now know what subset of the features we can use without sacrificing any accuracy"
   ]
  },
  {
   "cell_type": "code",
   "execution_count": 15,
   "metadata": {},
   "outputs": [],
   "source": [
    "#do a basic regression without scaling the data\n",
    "lr = LinearRegression().fit(train_df_v2[['energy','loudness','acousticness','instrumentalness','valence','Year']],train_df_v2['Popularity'])\n",
    "lr_pred = lr.predict(test_df_v2[['energy','loudness','acousticness','instrumentalness','valence','Year']])"
   ]
  },
  {
   "cell_type": "code",
   "execution_count": 16,
   "metadata": {},
   "outputs": [
    {
     "name": "stdout",
     "output_type": "stream",
     "text": [
      "linear regression rmse: 17.13079129221406\n",
      "linear regression mae: 13.845114104426392\n",
      "linear regression r2: 0.37362366724458074\n"
     ]
    }
   ],
   "source": [
    "print(\"linear regression rmse: \" + str(mean_squared_error(lr_pred,test_df_v2['Popularity'],squared=False)))\n",
    "print(\"linear regression mae: \" + str(mean_absolute_error(lr_pred,test_df_v2['Popularity'])))\n",
    "print(\"linear regression r2: \" + str(r2_score(test_df_v2['Popularity'],lr_pred)))"
   ]
  },
  {
   "cell_type": "code",
   "execution_count": 17,
   "metadata": {},
   "outputs": [],
   "source": [
    "import matplotlib.pyplot as plt"
   ]
  },
  {
   "cell_type": "code",
   "execution_count": 18,
   "metadata": {},
   "outputs": [
    {
     "data": {
      "image/png": "[encoded data removed]",
      "text/plain": [
       "<Figure size 432x288 with 1 Axes>"
      ]
     },
     "metadata": {
      "needs_background": "light"
     },
     "output_type": "display_data"
    }
   ],
   "source": [
    "plt.scatter(lr_pred,test_df_v2['Popularity'])\n",
    "plt.show()"
   ]
  },
  {
   "cell_type": "code",
   "execution_count": 19,
   "metadata": {},
   "outputs": [],
   "source": [
    "blah = [train_df_v2['Popularity'].mean()] * len(test_df_v2['Popularity'])"
   ]
  },
  {
   "cell_type": "code",
   "execution_count": 20,
   "metadata": {},
   "outputs": [
    {
     "data": {
      "text/plain": [
       "-0.00026446669797897115"
      ]
     },
     "execution_count": 20,
     "metadata": {},
     "output_type": "execute_result"
    }
   ],
   "source": [
    "r2_score(test_df_v2['Popularity'],blah)"
   ]
  },
  {
   "cell_type": "code",
   "execution_count": 21,
   "metadata": {},
   "outputs": [],
   "source": [
    "regr = RandomForestRegressor().fit(train_df_v2[['energy','loudness','acousticness','instrumentalness','valence','Year']],train_df_v2['Popularity'])\n",
    "regr_pred = regr.predict(test_df_v2[['energy','loudness','acousticness','instrumentalness','valence','Year']])"
   ]
  },
  {
   "cell_type": "code",
   "execution_count": 22,
   "metadata": {},
   "outputs": [
    {
     "data": {
      "text/plain": [
       "13.239328161841561"
      ]
     },
     "execution_count": 22,
     "metadata": {},
     "output_type": "execute_result"
    }
   ],
   "source": [
    "mean_absolute_error(regr_pred,test_df_v2['Popularity'])"
   ]
  },
  {
   "cell_type": "code",
   "execution_count": null,
   "metadata": {},
   "outputs": [],
   "source": []
  }
 ],
 "metadata": {
  "kernelspec": {
   "display_name": "Python 3",
   "language": "python",
   "name": "python3"
  },
  "language_info": {
   "codemirror_mode": {
    "name": "ipython",
    "version": 3
   },
   "file_extension": ".py",
   "mimetype": "text/x-python",
   "name": "python",
   "nbconvert_exporter": "python",
   "pygments_lexer": "ipython3",
   "version": "3.7.2"
  }
 },
 "nbformat": 4,
 "nbformat_minor": 2
}
